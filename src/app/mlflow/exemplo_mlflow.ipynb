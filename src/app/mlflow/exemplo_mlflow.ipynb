{
 "nbformat": 4,
 "nbformat_minor": 0,
 "metadata": {
  "colab": {
   "provenance": []
  },
  "kernelspec": {
   "name": "python3",
   "display_name": "Python 3 (ipykernel)",
   "language": "python"
  },
  "language_info": {
   "name": "python"
  }
 },
 "cells": [
  {
   "cell_type": "markdown",
   "source": [
    "# Instalação das dependências"
   ],
   "metadata": {
    "id": "2BWL5Bg_BgU-"
   }
  },
  {
   "cell_type": "code",
   "source": [
    "# Importações necessárias\n",
    "import mlflow\n",
    "import mlflow.sklearn\n",
    "import pandas as pd\n",
    "from sklearn.datasets import load_iris\n",
    "from sklearn.model_selection import train_test_split\n",
    "from sklearn.linear_model import LogisticRegression\n",
    "from sklearn.ensemble import RandomForestClassifier\n",
    "from sklearn.neighbors import KNeighborsClassifier\n",
    "from sklearn.metrics import accuracy_score\n"
   ],
   "metadata": {
    "id": "M4a9om7tBkgE",
    "ExecuteTime": {
     "end_time": "2024-11-28T13:57:49.731984Z",
     "start_time": "2024-11-28T13:57:47.510262Z"
    }
   },
   "outputs": [],
   "execution_count": 3
  },
  {
   "cell_type": "markdown",
   "source": [
    "# Preparação dos dados (divisão em treino e teste)"
   ],
   "metadata": {
    "id": "aWH7r6s8ByQS"
   }
  },
  {
   "cell_type": "code",
   "source": [
    "# Carregar o dataset Iris\n",
    "iris = load_iris()\n",
    "X = iris.data\n",
    "y = iris.target\n",
    "\n",
    "# Dividir os dados em treino e teste\n",
    "X_train, X_test, y_train, y_test = train_test_split(X, y, test_size=0.2, random_state=42)\n"
   ],
   "metadata": {
    "id": "SOaWY9DOBzJi",
    "ExecuteTime": {
     "end_time": "2024-11-28T13:57:50.452843Z",
     "start_time": "2024-11-28T13:57:50.445660Z"
    }
   },
   "outputs": [],
   "execution_count": 4
  },
  {
   "metadata": {},
   "cell_type": "markdown",
   "source": "# Linkando código ao MLFlow"
  },
  {
   "metadata": {
    "ExecuteTime": {
     "end_time": "2024-11-28T14:00:06.304998Z",
     "start_time": "2024-11-28T14:00:06.300901Z"
    }
   },
   "cell_type": "code",
   "source": [
    "import mlflow\n",
    "mlflow.set_tracking_uri(\"http://localhost:8080\")"
   ],
   "outputs": [],
   "execution_count": 10
  },
  {
   "cell_type": "markdown",
   "source": "# Definir e treinar o modelo de Regressão Logístic",
   "metadata": {
    "id": "zGHWnlvKBw7T"
   }
  },
  {
   "cell_type": "code",
   "source": [
    "# Definir o modelo de Regressão Logística\n",
    "log_reg_model = LogisticRegression(max_iter=200)\n",
    "\n",
    "# Iniciar o experimento do MLflow para o modelo de Regressão Logística com nome\n",
    "with mlflow.start_run(run_name=\"Logistic_Regression_Model\"):\n",
    "    # Treinar o modelo\n",
    "    log_reg_model.fit(X_train, y_train)\n",
    "\n",
    "    # Fazer previsões\n",
    "    y_pred_log_reg = log_reg_model.predict(X_test)\n",
    "\n",
    "    # Avaliar o modelo de Regressão Logística\n",
    "    log_reg_accuracy = accuracy_score(y_test, y_pred_log_reg)\n",
    "    print(f'Acurácia da Regressão Logística: {log_reg_accuracy:.4f}')\n",
    "\n",
    "    # Registrar a métrica de acurácia e o modelo no MLflow\n",
    "    mlflow.log_metric(\"accuracy\", log_reg_accuracy)\n",
    "    mlflow.sklearn.log_model(log_reg_model, \"logistic_regression_model\")\n"
   ],
   "metadata": {
    "colab": {
     "base_uri": "https://localhost:8080/",
     "height": 80
    },
    "id": "hzU3MVjwB4gq",
    "outputId": "090ff282-fd2d-40e8-bc6f-2f81401cb623",
    "ExecuteTime": {
     "end_time": "2024-11-28T14:00:14.332573Z",
     "start_time": "2024-11-28T14:00:08.286378Z"
    }
   },
   "outputs": [
    {
     "name": "stdout",
     "output_type": "stream",
     "text": [
      "Acurácia da Regressão Logística: 1.0000\n"
     ]
    },
    {
     "name": "stderr",
     "output_type": "stream",
     "text": [
      "2024/11/28 11:00:13 WARNING mlflow.models.model: Model logged without a signature and input example. Please set `input_example` parameter when logging the model to auto infer the model signature.\n"
     ]
    },
    {
     "name": "stdout",
     "output_type": "stream",
     "text": [
      "🏃 View run Logistic_Regression_Model at: http://localhost:8080/#/experiments/0/runs/88bcd852114e4417b1f39351fa7382e4\n",
      "🧪 View experiment at: http://localhost:8080/#/experiments/0\n"
     ]
    }
   ],
   "execution_count": 11
  },
  {
   "metadata": {},
   "cell_type": "markdown",
   "source": "# Definir e treinar o modelo de Random Forest"
  },
  {
   "metadata": {
    "ExecuteTime": {
     "end_time": "2024-11-28T14:00:17.964289Z",
     "start_time": "2024-11-28T14:00:14.434581Z"
    }
   },
   "cell_type": "code",
   "source": [
    "# Definir o modelo de Random Forest\n",
    "rf_model = RandomForestClassifier(n_estimators=100, random_state=42)\n",
    "\n",
    "# Iniciar o experimento do MLflow para o modelo de Random Forest com nome\n",
    "with mlflow.start_run(run_name=\"Random_Forest_Model\"):\n",
    "    # Treinar o modelo\n",
    "    rf_model.fit(X_train, y_train)\n",
    "\n",
    "    # Fazer previsões\n",
    "    y_pred_rf = rf_model.predict(X_test)\n",
    "\n",
    "    # Avaliar o modelo de Random Forest\n",
    "    rf_accuracy = accuracy_score(y_test, y_pred_rf)\n",
    "    print(f'Acurácia do Random Forest: {rf_accuracy:.4f}')\n",
    "\n",
    "    # Registrar a métrica de acurácia e o modelo no MLflow\n",
    "    mlflow.log_metric(\"accuracy\", rf_accuracy)\n",
    "    mlflow.sklearn.log_model(rf_model, \"random_forest_model\")\n"
   ],
   "outputs": [
    {
     "name": "stdout",
     "output_type": "stream",
     "text": [
      "Acurácia do Random Forest: 1.0000\n"
     ]
    },
    {
     "name": "stderr",
     "output_type": "stream",
     "text": [
      "2024/11/28 11:00:17 WARNING mlflow.models.model: Model logged without a signature and input example. Please set `input_example` parameter when logging the model to auto infer the model signature.\n"
     ]
    },
    {
     "name": "stdout",
     "output_type": "stream",
     "text": [
      "🏃 View run Random_Forest_Model at: http://localhost:8080/#/experiments/0/runs/7dd75a9e8856460484fc67b132eed61f\n",
      "🧪 View experiment at: http://localhost:8080/#/experiments/0\n"
     ]
    }
   ],
   "execution_count": 12
  },
  {
   "metadata": {},
   "cell_type": "markdown",
   "source": "# Definir e treinar o modelo K-Nearest Neighbors (KNN)"
  },
  {
   "metadata": {
    "ExecuteTime": {
     "end_time": "2024-11-28T14:00:21.323737Z",
     "start_time": "2024-11-28T14:00:17.984594Z"
    }
   },
   "cell_type": "code",
   "source": [
    "# Definir o modelo K-Nearest Neighbors\n",
    "knn_model = KNeighborsClassifier(n_neighbors=5)\n",
    "\n",
    "# Iniciar o experimento do MLflow para o modelo KNN com nome\n",
    "with mlflow.start_run(run_name=\"KNN_Model\"):\n",
    "    # Treinar o modelo\n",
    "    knn_model.fit(X_train, y_train)\n",
    "\n",
    "    # Fazer previsões\n",
    "    y_pred_knn = knn_model.predict(X_test)\n",
    "\n",
    "    # Avaliar o modelo KNN\n",
    "    knn_accuracy = accuracy_score(y_test, y_pred_knn)\n",
    "    print(f'Acurácia do KNN: {knn_accuracy:.4f}')\n",
    "\n",
    "    # Registrar a métrica de acurácia e o modelo no MLflow\n",
    "    mlflow.log_metric(\"accuracy\", knn_accuracy)\n",
    "    mlflow.sklearn.log_model(knn_model, \"knn_model\")\n"
   ],
   "outputs": [
    {
     "name": "stdout",
     "output_type": "stream",
     "text": [
      "Acurácia do KNN: 1.0000\n"
     ]
    },
    {
     "name": "stderr",
     "output_type": "stream",
     "text": [
      "2024/11/28 11:00:21 WARNING mlflow.models.model: Model logged without a signature and input example. Please set `input_example` parameter when logging the model to auto infer the model signature.\n"
     ]
    },
    {
     "name": "stdout",
     "output_type": "stream",
     "text": [
      "🏃 View run KNN_Model at: http://localhost:8080/#/experiments/0/runs/8674efef517b4f7d84b8640fb789e6f3\n",
      "🧪 View experiment at: http://localhost:8080/#/experiments/0\n"
     ]
    }
   ],
   "execution_count": 13
  }
 ]
}
