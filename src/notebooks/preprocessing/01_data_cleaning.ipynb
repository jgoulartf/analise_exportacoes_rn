{
 "cells": [
  {
   "metadata": {},
   "cell_type": "markdown",
   "source": [
    "# Pré-processamento dos dados das exportações do RN\n",
    "\n",
    "![](https://share-eric.eu/fileadmin/_processed_/b/5/csm_dataheader_ec9ee966be.jpg)"
   ],
   "id": "4accd07edfce1e49"
  },
  {
   "metadata": {},
   "cell_type": "markdown",
   "source": "# Carregando base de dados das exportações do RN",
   "id": "b698f93f30bcf490"
  },
  {
   "cell_type": "code",
   "id": "initial_id",
   "metadata": {
    "collapsed": true,
    "ExecuteTime": {
     "end_time": "2024-11-09T12:55:52.967919Z",
     "start_time": "2024-11-09T12:54:55.782200Z"
    }
   },
   "source": [
    "import pandas as pd\n",
    "\n",
    "# Carrega excel em um dataframe\n",
    "dataset_exportacoes_rn_continente = pd.read_excel('../../../data/raw/V_EXPORTACAO_GERAL_1997-01_2024-12_CONTINENTE_EXCEL.xlsx')\n",
    "dataset_exportacoes_rn_blocos_economicos = pd.read_excel('../../../data/raw/V_EXPORTACAO_GERAL_1997-01_2024-12_BLOCOS_ECONOMICOS_EXCEL.xlsx')"
   ],
   "outputs": [],
   "execution_count": 3
  },
  {
   "metadata": {
    "ExecuteTime": {
     "end_time": "2024-11-09T13:07:58.340380Z",
     "start_time": "2024-11-09T13:07:58.283362Z"
    }
   },
   "cell_type": "code",
   "source": [
    "from IPython.display import display, HTML\n",
    "import io\n",
    "import sys\n",
    "\n",
    "# Captura as informações de um dataframe e retorna como string\n",
    "def capture_info(df):\n",
    "    buffer = io.StringIO()\n",
    "    sys.stdout = buffer\n",
    "    df.info()\n",
    "    sys.stdout = sys.__stdout__\n",
    "    return buffer.getvalue()\n",
    "\n",
    "display(HTML(f\"<div style='display:flex;justify-content:space-between;'><div style='width:45%;padding:10px;'><h3>Exportações RN por Continente</h3><pre>{capture_info(dataset_exportacoes_rn_continente)}</pre></div><div style='width:45%;padding:10px;'><h3>Exportações RN por Blocos Econômicos</h3><pre>{capture_info(dataset_exportacoes_rn_blocos_economicos)}</pre></div></div>\"))\n"
   ],
   "id": "c051b21a57364a79",
   "outputs": [
    {
     "data": {
      "text/plain": [
       "<IPython.core.display.HTML object>"
      ],
      "text/html": [
       "<div style='display:flex;justify-content:space-between;'><div style='width:45%;padding:10px;'><h3>Exportações RN por Continente</h3><pre><class 'pandas.core.frame.DataFrame'>\n",
       "RangeIndex: 57135 entries, 0 to 57134\n",
       "Data columns (total 21 columns):\n",
       " #   Column                  Non-Null Count  Dtype \n",
       "---  ------                  --------------  ----- \n",
       " 0   Ano                     57135 non-null  int64 \n",
       " 1   Mês                     57135 non-null  object\n",
       " 2   UF do Produto           57135 non-null  object\n",
       " 3   Bloco Econômico         57135 non-null  object\n",
       " 4   Países                  57135 non-null  object\n",
       " 5   Via                     57135 non-null  object\n",
       " 6   URF                     57135 non-null  object\n",
       " 7   Código NCM              57135 non-null  int64 \n",
       " 8   Descrição NCM           57135 non-null  object\n",
       " 9   Código SH6              57135 non-null  int64 \n",
       " 10  Descrição SH6           57135 non-null  object\n",
       " 11  Código SH4              57135 non-null  int64 \n",
       " 12  Descrição SH4           57135 non-null  object\n",
       " 13  Código SH2              57135 non-null  int64 \n",
       " 14  Descrição SH2           57135 non-null  object\n",
       " 15  Código Seção            57135 non-null  object\n",
       " 16  Descrição Seção         57135 non-null  object\n",
       " 17  Unidade estatística     57135 non-null  object\n",
       " 18  Valor US$ FOB           57135 non-null  int64 \n",
       " 19  Quilograma Líquido      57135 non-null  int64 \n",
       " 20  Quantidade Estatística  57135 non-null  int64 \n",
       "dtypes: int64(8), object(13)\n",
       "memory usage: 9.2+ MB\n",
       "</pre></div><div style='width:45%;padding:10px;'><h3>Exportações RN por Blocos Econômicos</h3><pre><class 'pandas.core.frame.DataFrame'>\n",
       "RangeIndex: 31889 entries, 0 to 31888\n",
       "Data columns (total 21 columns):\n",
       " #   Column                  Non-Null Count  Dtype \n",
       "---  ------                  --------------  ----- \n",
       " 0   Ano                     31889 non-null  int64 \n",
       " 1   Mês                     31889 non-null  object\n",
       " 2   UF do Produto           31889 non-null  object\n",
       " 3   Bloco Econômico         31889 non-null  object\n",
       " 4   Países                  31889 non-null  object\n",
       " 5   Via                     31889 non-null  object\n",
       " 6   URF                     31889 non-null  object\n",
       " 7   Código NCM              31889 non-null  int64 \n",
       " 8   Descrição NCM           31889 non-null  object\n",
       " 9   Código SH6              31889 non-null  int64 \n",
       " 10  Descrição SH6           31889 non-null  object\n",
       " 11  Código SH4              31889 non-null  int64 \n",
       " 12  Descrição SH4           31889 non-null  object\n",
       " 13  Código SH2              31889 non-null  int64 \n",
       " 14  Descrição SH2           31889 non-null  object\n",
       " 15  Código Seção            31889 non-null  object\n",
       " 16  Descrição Seção         31889 non-null  object\n",
       " 17  Unidade estatística     31889 non-null  object\n",
       " 18  Valor US$ FOB           31889 non-null  int64 \n",
       " 19  Quilograma Líquido      31889 non-null  int64 \n",
       " 20  Quantidade Estatística  31889 non-null  int64 \n",
       "dtypes: int64(8), object(13)\n",
       "memory usage: 5.1+ MB\n",
       "</pre></div></div>"
      ]
     },
     "metadata": {},
     "output_type": "display_data"
    }
   ],
   "execution_count": 21
  }
 ],
 "metadata": {
  "kernelspec": {
   "display_name": "Python 3",
   "language": "python",
   "name": "python3"
  },
  "language_info": {
   "codemirror_mode": {
    "name": "ipython",
    "version": 2
   },
   "file_extension": ".py",
   "mimetype": "text/x-python",
   "name": "python",
   "nbconvert_exporter": "python",
   "pygments_lexer": "ipython2",
   "version": "2.7.6"
  }
 },
 "nbformat": 4,
 "nbformat_minor": 5
}
